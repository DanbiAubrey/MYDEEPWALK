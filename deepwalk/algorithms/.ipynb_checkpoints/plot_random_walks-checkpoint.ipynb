{
 "cells": [
  {
   "cell_type": "code",
   "execution_count": null,
   "metadata": {},
   "outputs": [],
   "source": [
    "###-------------------------------------------------------------------------------####\n",
    "###                         plot a polygonal curve of randomwalk                  ####\n",
    "###-------------------------------------------------------------------------------####\n",
    "\n",
    "    x_vectors = np.ndarray(len(cur_walk), dtype=np.complex128)#length : 40\n",
    "\n",
    "    y_vectors = np.ndarray(len(cur_walk), dtype=np.complex128)#length : 40\n",
    "\n",
    "    for i in range(len(cur_walk)):\n",
    "\n",
    "        x_vectors[i] = embedding_of_randwalk[i][0]\n",
    "        y_vectors[i] = embedding_of_randwalk[i][1]\n",
    "\n",
    "\n",
    "    print(x_vectors)\n",
    "    print(\"\\n\")\n",
    "    print(y_vectors)\n",
    "\n",
    "\n",
    "    plt.figure(figsize=(10, 10))\n",
    "\n",
    "    plt.plot(x_vectors,y_vectors, marker='o')\n",
    "\n",
    "    plt.title('polygonal curve of random_walk[i]')\n",
    "\n",
    "    plt.xlabel('1_dim')\n",
    "    plt.ylabel('2_dim')\n",
    "\n",
    "    plt.show()\n",
    "\n",
    "    exit()\n"
   ]
  }
 ],
 "metadata": {
  "kernelspec": {
   "display_name": "PyTorch_deepwalk",
   "language": "python",
   "name": "pytorch"
  },
  "language_info": {
   "codemirror_mode": {
    "name": "ipython",
    "version": 3
   },
   "file_extension": ".py",
   "mimetype": "text/x-python",
   "name": "python",
   "nbconvert_exporter": "python",
   "pygments_lexer": "ipython3",
   "version": "3.8.3"
  }
 },
 "nbformat": 4,
 "nbformat_minor": 4
}
