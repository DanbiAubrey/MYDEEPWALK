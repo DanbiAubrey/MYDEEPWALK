{
 "cells": [
  {
   "cell_type": "code",
   "execution_count": 24,
   "metadata": {},
   "outputs": [
    {
     "name": "stdout",
     "output_type": "stream",
     "text": [
      "{33.0: [-0.23488903, -1.326953], 0.0: [1.1148056, -0.64009315], 32.0: [-0.28329763, -1.3349797], 2.0: [0.5103202, -0.94727033], 1.0: [0.79231566, -0.74405617], 31.0: [-0.17155616, -1.3509599], 23.0: [-0.6259915, -1.5598907], 3.0: [0.9251136, -0.83256096], 8.0: [-0.021803832, -1.1479889], 13.0: [0.6049188, -0.87491095], 29.0: [-0.3668977, -1.4279331], 30.0: [0.20279053, -1.0753523], 5.0: [2.4785345, -0.6586646], 6.0: [2.2315977, -0.47367758], 27.0: [-0.2286257, -1.2536482], 24.0: [-0.53133214, -1.7036369], 7.0: [1.1611446, -0.6051323], 25.0: [-0.5547037, -1.5746906], 10.0: [1.7833495, -0.58616585], 4.0: [2.001655, -0.470346], 18.0: [-0.37041453, -1.3417462], 19.0: [0.72562665, -0.86850613], 28.0: [-0.011449863, -1.2398852], 21.0: [1.2603729, -0.5032121], 26.0: [-0.36996487, -1.4871181], 14.0: [-0.43277922, -1.3337135], 22.0: [-0.69170314, -1.714579], 16.0: [2.7114892, -0.5914085], 15.0: [-0.5623086, -1.4802859], 17.0: [1.4049145, -0.68150336], 9.0: [0.1632475, -1.1857793], 20.0: [-0.54027, -1.4209039], 12.0: [1.2376753, -0.6232683], 11.0: [1.3172734, -0.5422351]}\n",
      "[[-0.23488903 -1.326953  ]\n",
      " [ 1.1148056  -0.64009315]\n",
      " [-0.28329763 -1.3349797 ]\n",
      " [ 0.5103202  -0.94727033]\n",
      " [ 0.79231566 -0.74405617]\n",
      " [-0.17155616 -1.3509599 ]\n",
      " [-0.6259915  -1.5598907 ]\n",
      " [ 0.9251136  -0.83256096]\n",
      " [-0.02180383 -1.1479889 ]\n",
      " [ 0.6049188  -0.87491095]\n",
      " [-0.3668977  -1.4279331 ]\n",
      " [ 0.20279053 -1.0753523 ]\n",
      " [ 2.4785345  -0.6586646 ]\n",
      " [ 2.2315977  -0.47367758]\n",
      " [-0.2286257  -1.2536482 ]\n",
      " [-0.53133214 -1.7036369 ]\n",
      " [ 1.1611446  -0.6051323 ]\n",
      " [-0.5547037  -1.5746906 ]\n",
      " [ 1.7833495  -0.58616585]\n",
      " [ 2.001655   -0.470346  ]\n",
      " [-0.37041453 -1.3417462 ]\n",
      " [ 0.72562665 -0.86850613]\n",
      " [-0.01144986 -1.2398852 ]\n",
      " [ 1.2603729  -0.5032121 ]\n",
      " [-0.36996487 -1.4871181 ]\n",
      " [-0.43277922 -1.3337135 ]\n",
      " [-0.69170314 -1.714579  ]\n",
      " [ 2.7114892  -0.5914085 ]\n",
      " [-0.5623086  -1.4802859 ]\n",
      " [ 1.4049145  -0.68150336]\n",
      " [ 0.1632475  -1.1857793 ]\n",
      " [-0.54027    -1.4209039 ]\n",
      " [ 1.2376753  -0.6232683 ]\n",
      " [ 1.3172734  -0.5422351 ]]\n"
     ]
    }
   ],
   "source": [
    "import numpy as np\n",
    "import pandas as pd\n",
    "import os\n",
    "import sys\n",
    "\n",
    "embeddings = {} #embedding dictionary # rows = node_index # columns = vector\n",
    "\n",
    "with open(os.path.join(sys.path[0], \"karate_deepwalk.embeddings\"), \"r\") as f:\n",
    "    f.readline()# header\n",
    "    first_vec = f.readline().split()\n",
    "    first_vec = [float(i) for i in first_vec]\n",
    "        \n",
    "    embeddings[first_vec[0]] = first_vec[1:] \n",
    "\n",
    "    column_cnt = len(first_vec) - 1 # size of vector dimension\n",
    "    \n",
    "    while True:\n",
    "        line = f.readline()\n",
    "        if not line: break\n",
    "        splitted_line = line.split()\n",
    "        \n",
    "        splitted_line = [float(i) for i in splitted_line]\n",
    "            \n",
    "        embeddings[splitted_line[0]] = splitted_line[1:]\n",
    "        \n",
    "print(embeddings)\n",
    "\n",
    "two_dim_embed = []\n",
    "values = list(embeddings.values())\n",
    "for i in range(len(embeddings.keys())):\n",
    "    two_dim_embed.append(values[i])\n",
    "   \n",
    "two_dim_embed = np.array(two_dim_embed)\n",
    "print(two_dim_embed)"
   ]
  },
  {
   "cell_type": "code",
   "execution_count": 18,
   "metadata": {},
   "outputs": [],
   "source": [
    "missing=[0]*column_cnt\n",
    "\n",
    "def node_vector(key):\n",
    "    try:\n",
    "        return(embeddings[key])\n",
    "    except:\n",
    "        return(missing)"
   ]
  },
  {
   "cell_type": "code",
   "execution_count": 3,
   "metadata": {},
   "outputs": [],
   "source": [
    "vertices_index = list(embeddings.keys()) #order of vertices"
   ]
  },
  {
   "cell_type": "code",
   "execution_count": 5,
   "metadata": {},
   "outputs": [
    {
     "name": "stdout",
     "output_type": "stream",
     "text": [
      "           0         1\n",
      "0   1.114806 -0.640093\n",
      "1   0.792316 -0.744056\n",
      "2   0.510320 -0.947270\n",
      "3   0.925114 -0.832561\n",
      "4   2.001655 -0.470346\n",
      "5   2.478534 -0.658665\n",
      "6   2.231598 -0.473678\n",
      "7   1.161145 -0.605132\n",
      "8  -0.021804 -1.147989\n",
      "9   0.163247 -1.185779\n",
      "10  1.783349 -0.586166\n",
      "11  1.317273 -0.542235\n",
      "12  1.237675 -0.623268\n",
      "13  0.604919 -0.874911\n",
      "14 -0.432779 -1.333713\n",
      "15 -0.562309 -1.480286\n",
      "16  2.711489 -0.591409\n",
      "17  1.404915 -0.681503\n",
      "18 -0.370415 -1.341746\n",
      "19  0.725627 -0.868506\n",
      "20 -0.540270 -1.420904\n",
      "21  1.260373 -0.503212\n",
      "22 -0.691703 -1.714579\n",
      "23 -0.625992 -1.559891\n",
      "24 -0.531332 -1.703637\n",
      "25 -0.554704 -1.574691\n",
      "26 -0.369965 -1.487118\n",
      "27 -0.228626 -1.253648\n",
      "28 -0.011450 -1.239885\n",
      "29 -0.366898 -1.427933\n",
      "30  0.202791 -1.075352\n",
      "31 -0.171556 -1.350960\n",
      "32 -0.283298 -1.334980\n",
      "33 -0.234889 -1.326953\n"
     ]
    }
   ],
   "source": [
    "df = pd.DataFrame(columns = range(0,column_cnt))\n",
    "\n",
    "for i in range(len(vertices_index)):\n",
    "    df.loc[i] = embeddings[float(i)]\n",
    "    \n",
    "print(df)\n",
    "\n"
   ]
  },
  {
   "cell_type": "code",
   "execution_count": 5,
   "metadata": {},
   "outputs": [
    {
     "name": "stdout",
     "output_type": "stream",
     "text": [
      "[[ 0.69284257+0.j -0.23879865+0.j]\n",
      " [ 0.53805939+0.j  0.38554409+0.j]\n",
      " [ 0.05875892+0.j  0.29633763+0.j]\n",
      " [ 0.58907046+0.j  0.43826645+0.j]\n",
      " [ 1.11711687+0.j -0.83080505+0.j]\n",
      " [ 1.20440722+0.j -1.07466843+0.j]\n",
      " [ 0.90292609+0.j -1.19928257+0.j]\n",
      " [ 0.46963124+0.j  0.39764824+0.j]\n",
      " [-0.27004655+0.j -0.05290159+0.j]\n",
      " [-0.3249949 +0.j  0.29054023+0.j]\n",
      " [ 1.14098347+0.j -0.90726127+0.j]\n",
      " [ 0.76754387+0.j -0.18419923+0.j]\n",
      " [ 0.50691046+0.j  0.20741899+0.j]\n",
      " [ 0.29516783+0.j  0.08533286+0.j]\n",
      " [-0.661367  +0.j -0.23360382+0.j]\n",
      " [-0.87302478+0.j -0.09497623+0.j]\n",
      " [ 1.25009541+0.j -1.33135076+0.j]\n",
      " [ 0.65150724+0.j  0.01956721+0.j]\n",
      " [-0.67221411+0.j -0.09549341+0.j]\n",
      " [ 0.29109399+0.j  0.05606373+0.j]\n",
      " [-0.59603879+0.j -0.00867389+0.j]\n",
      " [ 0.58690246+0.j -0.00345547+0.j]\n",
      " [-0.71625765+0.j -0.09230372+0.j]\n",
      " [-0.94570204+0.j -0.27063859+0.j]\n",
      " [-0.89698269+0.j -0.61933572+0.j]\n",
      " [-1.03309325+0.j -0.63341752+0.j]\n",
      " [-0.76871373+0.j  0.04309664+0.j]\n",
      " [-0.60571483+0.j -0.30125463+0.j]\n",
      " [-0.32042009+0.j -0.03341876+0.j]\n",
      " [-0.98178151+0.j -0.13745377+0.j]\n",
      " [-0.30744033+0.j  0.14529011+0.j]\n",
      " [-0.57250686+0.j -0.59247937+0.j]\n",
      " [-0.5799127 +0.j  0.04812408+0.j]\n",
      " [-0.60077839+0.j  0.02238768+0.j]]\n"
     ]
    }
   ],
   "source": [
    "#Implement PCA to reduce dimensionality of embeddings\n",
    "\n",
    "#vector representation(embeddings) list\n",
    "X = df.values.tolist()\n",
    "#print(X)\n",
    "#Computing correlation of matrix\n",
    "X_corr=df.corr()\n",
    "\n",
    "#Computing eigen values and eigen vectors\n",
    "values,vectors=np.linalg.eig(X_corr)\n",
    "\n",
    "#Sorting the eigen vectors coresponding to eigen values in descending order\n",
    "args = (-values).argsort()\n",
    "values = vectors[args]\n",
    "vectors = vectors[:, args]\n",
    "\n",
    "#Taking first 2 components which explain maximum variance for projecting\n",
    "new_vectors=vectors[:,:2]\n",
    "\n",
    "#Projecting it onto new dimesion with 2 axis\n",
    "neww_X=np.dot(X,new_vectors)\n",
    "\n",
    "print(neww_X)"
   ]
  },
  {
   "cell_type": "code",
   "execution_count": 25,
   "metadata": {},
   "outputs": [
    {
     "data": {
      "image/png": "[encoded data removed]",
      "text/plain": [
       "<Figure size 936x504 with 1 Axes>"
      ]
     },
     "metadata": {
      "needs_background": "light"
     },
     "output_type": "display_data"
    }
   ],
   "source": [
    "import matplotlib.pyplot as plt\n",
    "\n",
    "plt.figure(figsize=(13,7))\n",
    "plt.scatter(two_dim_embed[:,0],two_dim_embed[:,1],linewidths=10,color='orange')\n",
    "plt.xlabel(\"PC1\",size=10)\n",
    "plt.ylabel(\"PC2\",size=10)\n",
    "plt.title(\"vector representation space\",size=20)\n",
    "\n",
    "nodes= list(df.index)\n",
    "\n",
    "for i, word in enumerate(nodes):\n",
    "  plt.annotate(word,xy=(two_dim_embed[i,0],two_dim_embed[i,1]))"
   ]
  },
  {
   "cell_type": "code",
   "execution_count": null,
   "metadata": {},
   "outputs": [],
   "source": []
  }
 ],
 "metadata": {
  "kernelspec": {
   "display_name": "PyTorch_deepwalk",
   "language": "python",
   "name": "pytorch"
  },
  "language_info": {
   "codemirror_mode": {
    "name": "ipython",
    "version": 3
   },
   "file_extension": ".py",
   "mimetype": "text/x-python",
   "name": "python",
   "nbconvert_exporter": "python",
   "pygments_lexer": "ipython3",
   "version": "3.8.3"
  }
 },
 "nbformat": 4,
 "nbformat_minor": 4
}
