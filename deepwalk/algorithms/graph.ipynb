{
 "cells": [
  {
   "cell_type": "code",
   "execution_count": 5,
   "metadata": {},
   "outputs": [],
   "source": [
    "import sys\n",
    "import random\n",
    "from random import shuffle\n",
    "import scipy.sparse as sp\n",
    "import networkx as nx\n"
   ]
  },
  {
   "cell_type": "code",
   "execution_count": 6,
   "metadata": {},
   "outputs": [],
   "source": [
    "#Graph utils\n",
    "class Graph:\n",
    "    \n",
    "  def __init__(self, graph_adjacency):\n",
    "    self.G = graph_adjacency\n",
    "    self.num_nodes = self.G.number_of_nodes()\n",
    "    self.num_edges = self.G.number_of_edges()\n",
    "    self.edges = self.G.edges(data=True)\n",
    "    self.nodes = self.G.nodes(data=True)"
   ]
  },
  {
   "cell_type": "code",
   "execution_count": 8,
   "metadata": {},
   "outputs": [],
   "source": [
    "#build random walks list(shuffle nodes in beforehand)\n",
    "def build_deep_walk(G, num_paths, path_length, alpha=0, rand=random.Random(0)):\n",
    "    walks = []\n",
    "\n",
    "    nodes = list(G.nodes)\n",
    "    \n",
    "    for cnt in range(num_paths):\n",
    "      rand.shuffle(nodes)#shuffle\n",
    "      for node in nodes:\n",
    "        walks.append(G.random_walk(path_length, rand=rand, alpha=alpha, start=node))\n",
    "    \n",
    "    return walks"
   ]
  },
  {
   "cell_type": "code",
   "execution_count": 9,
   "metadata": {},
   "outputs": [],
   "source": [
    " #generate truncated random walks\n",
    "def random_walk(self, path_length, alpha=0, rand=random.Random(), start=None):\n",
    "    G = self.G\n",
    "    \n",
    "    if start: \n",
    "      path = [start]#Start of Randomwalk\n",
    "    else:\n",
    "      path = [rand.choice(list(G.nodes(data=False)))]#uniform in regard to Nodes while not uniform with edges\n",
    "\n",
    "    while len(path) < path_length:\n",
    "      cur = path[-1]# current node\n",
    "      if len(G[current]) > 0:# if there is neighbor of current node\n",
    "        if rand.random() >= alpha: # if probability of restart is less than random probability\n",
    "          path.append(rand.choice(list(G[current].keys())))\n",
    "        else:\n",
    "          path.append(path[0])\n",
    "      else:\n",
    "        break\n",
    "        \n",
    "    return [str(node) for node in path]"
   ]
  },
  {
   "cell_type": "code",
   "execution_count": null,
   "metadata": {},
   "outputs": [],
   "source": []
  }
 ],
 "metadata": {
  "kernelspec": {
   "display_name": "Python (myenv)",
   "language": "python",
   "name": "myenv"
  },
  "language_info": {
   "codemirror_mode": {
    "name": "ipython",
    "version": 3
   },
   "file_extension": ".py",
   "mimetype": "text/x-python",
   "name": "python",
   "nbconvert_exporter": "python",
   "pygments_lexer": "ipython3",
   "version": "3.8.3"
  }
 },
 "nbformat": 4,
 "nbformat_minor": 4
}
